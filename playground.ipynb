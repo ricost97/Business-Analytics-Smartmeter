{
 "cells": [
  {
   "cell_type": "markdown",
   "metadata": {},
   "source": [
    "## 0. Import Required Libraries"
   ]
  },
  {
   "cell_type": "markdown",
   "metadata": {},
   "source": [
    "> **Note:** Please copy the data to the root folder and adjust the file name (energy_data.csv)."
   ]
  },
  {
   "cell_type": "code",
   "execution_count": 11,
   "metadata": {},
   "outputs": [],
   "source": [
    "from sklearn.linear_model import LinearRegression\n",
    "from sklearn.ensemble import RandomForestRegressor, GradientBoostingRegressor\n",
    "from sklearn.metrics import mean_squared_error, mean_absolute_error\n",
    "import numpy as np"
   ]
  },
  {
   "cell_type": "markdown",
   "metadata": {},
   "source": [
    "## 1. Load the CSV Data"
   ]
  },
  {
   "cell_type": "code",
   "execution_count": 12,
   "metadata": {},
   "outputs": [
    {
     "data": {
      "text/html": [
       "<div>\n",
       "<style scoped>\n",
       "    .dataframe tbody tr th:only-of-type {\n",
       "        vertical-align: middle;\n",
       "    }\n",
       "\n",
       "    .dataframe tbody tr th {\n",
       "        vertical-align: top;\n",
       "    }\n",
       "\n",
       "    .dataframe thead th {\n",
       "        text-align: right;\n",
       "    }\n",
       "</style>\n",
       "<table border=\"1\" class=\"dataframe\">\n",
       "  <thead>\n",
       "    <tr style=\"text-align: right;\">\n",
       "      <th></th>\n",
       "      <th>PROFILE</th>\n",
       "      <th>DATEFROM</th>\n",
       "      <th>TIMEFROM</th>\n",
       "      <th>VALUE</th>\n",
       "      <th>UNIT</th>\n",
       "      <th>DATETIME</th>\n",
       "    </tr>\n",
       "  </thead>\n",
       "  <tbody>\n",
       "    <tr>\n",
       "      <th>0</th>\n",
       "      <td>740105</td>\n",
       "      <td>2023.03.01</td>\n",
       "      <td>00:00:00</td>\n",
       "      <td>0.880</td>\n",
       "      <td>KWH</td>\n",
       "      <td>2023-03-01 00:00:00</td>\n",
       "    </tr>\n",
       "    <tr>\n",
       "      <th>1</th>\n",
       "      <td>740105</td>\n",
       "      <td>2023.03.01</td>\n",
       "      <td>00:15:00</td>\n",
       "      <td>0.968</td>\n",
       "      <td>KWH</td>\n",
       "      <td>2023-03-01 00:15:00</td>\n",
       "    </tr>\n",
       "    <tr>\n",
       "      <th>2</th>\n",
       "      <td>740105</td>\n",
       "      <td>2023.03.01</td>\n",
       "      <td>00:30:00</td>\n",
       "      <td>0.906</td>\n",
       "      <td>KWH</td>\n",
       "      <td>2023-03-01 00:30:00</td>\n",
       "    </tr>\n",
       "    <tr>\n",
       "      <th>3</th>\n",
       "      <td>740105</td>\n",
       "      <td>2023.03.01</td>\n",
       "      <td>00:45:00</td>\n",
       "      <td>0.916</td>\n",
       "      <td>KWH</td>\n",
       "      <td>2023-03-01 00:45:00</td>\n",
       "    </tr>\n",
       "    <tr>\n",
       "      <th>4</th>\n",
       "      <td>740105</td>\n",
       "      <td>2023.03.01</td>\n",
       "      <td>01:00:00</td>\n",
       "      <td>0.977</td>\n",
       "      <td>KWH</td>\n",
       "      <td>2023-03-01 01:00:00</td>\n",
       "    </tr>\n",
       "  </tbody>\n",
       "</table>\n",
       "</div>"
      ],
      "text/plain": [
       "   PROFILE    DATEFROM  TIMEFROM  VALUE UNIT            DATETIME\n",
       "0   740105  2023.03.01  00:00:00  0.880  KWH 2023-03-01 00:00:00\n",
       "1   740105  2023.03.01  00:15:00  0.968  KWH 2023-03-01 00:15:00\n",
       "2   740105  2023.03.01  00:30:00  0.906  KWH 2023-03-01 00:30:00\n",
       "3   740105  2023.03.01  00:45:00  0.916  KWH 2023-03-01 00:45:00\n",
       "4   740105  2023.03.01  01:00:00  0.977  KWH 2023-03-01 01:00:00"
      ]
     },
     "execution_count": 12,
     "metadata": {},
     "output_type": "execute_result"
    }
   ],
   "source": [
    "# Load the CSV data into a DataFrame\n",
    "df = pd.read_csv('energy_data.csv', delimiter=';')\n",
    "\n",
    "# Convert the DATEFROM and TIMEFROM columns into a datetime format\n",
    "df['DATETIME'] = pd.to_datetime(df['DATEFROM'] + ' ' + df['TIMEFROM'])\n",
    "\n",
    "# Display the first few rows of the dataframe\n",
    "df.head()"
   ]
  },
  {
   "cell_type": "markdown",
   "metadata": {},
   "source": [
    "## 2. Cleaning the Data"
   ]
  },
  {
   "cell_type": "code",
   "execution_count": 13,
   "metadata": {},
   "outputs": [
    {
     "data": {
      "text/html": [
       "<div>\n",
       "<style scoped>\n",
       "    .dataframe tbody tr th:only-of-type {\n",
       "        vertical-align: middle;\n",
       "    }\n",
       "\n",
       "    .dataframe tbody tr th {\n",
       "        vertical-align: top;\n",
       "    }\n",
       "\n",
       "    .dataframe thead th {\n",
       "        text-align: right;\n",
       "    }\n",
       "</style>\n",
       "<table border=\"1\" class=\"dataframe\">\n",
       "  <thead>\n",
       "    <tr style=\"text-align: right;\">\n",
       "      <th></th>\n",
       "      <th>PROFILE</th>\n",
       "      <th>DATEFROM</th>\n",
       "      <th>TIMEFROM</th>\n",
       "      <th>VALUE</th>\n",
       "      <th>UNIT</th>\n",
       "      <th>DATETIME</th>\n",
       "    </tr>\n",
       "  </thead>\n",
       "  <tbody>\n",
       "    <tr>\n",
       "      <th>0</th>\n",
       "      <td>740105</td>\n",
       "      <td>2023.03.01</td>\n",
       "      <td>00:00:00</td>\n",
       "      <td>0.880</td>\n",
       "      <td>KWH</td>\n",
       "      <td>2023-03-01 00:00:00</td>\n",
       "    </tr>\n",
       "    <tr>\n",
       "      <th>1</th>\n",
       "      <td>740105</td>\n",
       "      <td>2023.03.01</td>\n",
       "      <td>00:15:00</td>\n",
       "      <td>0.968</td>\n",
       "      <td>KWH</td>\n",
       "      <td>2023-03-01 00:15:00</td>\n",
       "    </tr>\n",
       "    <tr>\n",
       "      <th>2</th>\n",
       "      <td>740105</td>\n",
       "      <td>2023.03.01</td>\n",
       "      <td>00:30:00</td>\n",
       "      <td>0.906</td>\n",
       "      <td>KWH</td>\n",
       "      <td>2023-03-01 00:30:00</td>\n",
       "    </tr>\n",
       "    <tr>\n",
       "      <th>3</th>\n",
       "      <td>740105</td>\n",
       "      <td>2023.03.01</td>\n",
       "      <td>00:45:00</td>\n",
       "      <td>0.916</td>\n",
       "      <td>KWH</td>\n",
       "      <td>2023-03-01 00:45:00</td>\n",
       "    </tr>\n",
       "    <tr>\n",
       "      <th>4</th>\n",
       "      <td>740105</td>\n",
       "      <td>2023.03.01</td>\n",
       "      <td>01:00:00</td>\n",
       "      <td>0.977</td>\n",
       "      <td>KWH</td>\n",
       "      <td>2023-03-01 01:00:00</td>\n",
       "    </tr>\n",
       "  </tbody>\n",
       "</table>\n",
       "</div>"
      ],
      "text/plain": [
       "   PROFILE    DATEFROM  TIMEFROM  VALUE UNIT            DATETIME\n",
       "0   740105  2023.03.01  00:00:00  0.880  KWH 2023-03-01 00:00:00\n",
       "1   740105  2023.03.01  00:15:00  0.968  KWH 2023-03-01 00:15:00\n",
       "2   740105  2023.03.01  00:30:00  0.906  KWH 2023-03-01 00:30:00\n",
       "3   740105  2023.03.01  00:45:00  0.916  KWH 2023-03-01 00:45:00\n",
       "4   740105  2023.03.01  01:00:00  0.977  KWH 2023-03-01 01:00:00"
      ]
     },
     "execution_count": 13,
     "metadata": {},
     "output_type": "execute_result"
    }
   ],
   "source": [
    "# Step 1: Handle Missing Values\n",
    "# In this case, we'll drop rows with any missing values. \n",
    "# Alternatively, you can fill missing values with df.fillna() if appropriate.\n",
    "df_cleaned = df.dropna()\n",
    "\n",
    "# Step 2: Remove Duplicates\n",
    "# Assuming a combination of PROFILE, DATEFROM, and TIMEFROM uniquely identifies each record,\n",
    "# we remove duplicates based on these columns.\n",
    "df_cleaned = df_cleaned.drop_duplicates(subset=['PROFILE', 'DATEFROM', 'TIMEFROM'])\n",
    "\n",
    "# Step 3: Correct Data Types\n",
    "# The 'VALUE' column should be numeric. Let's ensure this.\n",
    "df_cleaned['VALUE'] = pd.to_numeric(df_cleaned['VALUE'], errors='coerce')\n",
    "\n",
    "# Handle possible conversion issues by dropping rows with NaNs in 'VALUE' after conversion.\n",
    "df_cleaned = df_cleaned.dropna(subset=['VALUE'])\n",
    "\n",
    "# Now, let's correct the datetime conversion as before but now with the cleaned data\n",
    "df_cleaned['DATETIME'] = pd.to_datetime(df_cleaned['DATEFROM'] + ' ' + df_cleaned['TIMEFROM'])\n",
    "\n",
    "# Display the first few rows of the cleaned dataframe to verify\n",
    "df_cleaned.head()\n",
    "\n",
    "## check missing datapoints\n",
    "\n"
   ]
  },
  {
   "cell_type": "markdown",
   "metadata": {},
   "source": [
    "## 3. Analyze the Data"
   ]
  },
  {
   "cell_type": "markdown",
   "metadata": {},
   "source": [
    "### Total Energy Consumption"
   ]
  },
  {
   "cell_type": "code",
   "execution_count": 14,
   "metadata": {},
   "outputs": [
    {
     "name": "stdout",
     "output_type": "stream",
     "text": [
      "Total Energy Consumption: 864343.2250000003 KWH\n"
     ]
    }
   ],
   "source": [
    "total_energy_consumption = df['VALUE'].sum()\n",
    "print(f\"Total Energy Consumption: {total_energy_consumption} KWH\")"
   ]
  },
  {
   "cell_type": "markdown",
   "metadata": {},
   "source": [
    "### 3.1 Data Preparation"
   ]
  },
  {
   "cell_type": "code",
   "execution_count": 15,
   "metadata": {},
   "outputs": [],
   "source": [
    "# Group by day and sum the energy values\n",
    "daily_data = df_cleaned.set_index('DATETIME').resample('D')['VALUE'].sum().reset_index()\n"
   ]
  },
  {
   "cell_type": "markdown",
   "metadata": {},
   "source": [
    "### 3.2 Feature Engineering"
   ]
  },
  {
   "cell_type": "code",
   "execution_count": 16,
   "metadata": {},
   "outputs": [],
   "source": [
    "# Add day of the week and weekend as features\n",
    "daily_data['day_of_week'] = daily_data['DATETIME'].dt.dayofweek\n",
    "daily_data['is_weekend'] = daily_data['day_of_week'].isin([5, 6]).astype(int)\n"
   ]
  },
  {
   "cell_type": "markdown",
   "metadata": {},
   "source": [
    "### 3.3 Splitting the dataset\n",
    "\n",
    "Split the data into training and test sets to ensure the model can be validated independently."
   ]
  },
  {
   "cell_type": "code",
   "execution_count": 17,
   "metadata": {},
   "outputs": [],
   "source": [
    "from sklearn.model_selection import train_test_split\n",
    "\n",
    "# Define features and target\n",
    "X = daily_data[['day_of_week', 'is_weekend']]\n",
    "y = daily_data['VALUE']\n",
    "\n",
    "# Split the data\n",
    "X_train, X_test, y_train, y_test = train_test_split(X, y, test_size=0.2, random_state=42)\n"
   ]
  },
  {
   "cell_type": "markdown",
   "metadata": {},
   "source": [
    "### 3.4 Model Selection"
   ]
  },
  {
   "cell_type": "code",
   "execution_count": 18,
   "metadata": {},
   "outputs": [],
   "source": [
    "def train_and_evaluate(X_train, X_test, y_train, y_test):\n",
    "    models = {\n",
    "        'Linear Regression': LinearRegression(),\n",
    "        'Random Forest': RandomForestRegressor(n_estimators=100, random_state=42),\n",
    "        'Gradient Boosting': GradientBoostingRegressor(n_estimators=100, random_state=42)\n",
    "    }\n",
    "    \n",
    "    results = {}\n",
    "    \n",
    "    for name, model in models.items():\n",
    "        # Train the model\n",
    "        model.fit(X_train, y_train)\n",
    "        \n",
    "        # Predict on test data\n",
    "        y_pred = model.predict(X_test)\n",
    "        \n",
    "        # Calculate evaluation metrics\n",
    "        rmse = np.sqrt(mean_squared_error(y_test, y_pred))\n",
    "        mae = mean_absolute_error(y_test, y_pred)\n",
    "        \n",
    "        # Store results\n",
    "        results[name] = {'RMSE': rmse, 'MAE': mae}\n",
    "    \n",
    "    return results\n",
    "\n",
    "\n",
    "# Train and evaluate models\n",
    "results = train_and_evaluate(X_train, X_test, y_train, y_test)\n"
   ]
  },
  {
   "cell_type": "markdown",
   "metadata": {},
   "source": [
    "### 3.5 Model Evaluation"
   ]
  },
  {
   "cell_type": "markdown",
   "metadata": {},
   "source": [
    "Evaluate the models using metrics such as Mean Absolute Error (MAE) or Root Mean Square Error (RMSE)."
   ]
  },
  {
   "cell_type": "code",
   "execution_count": 19,
   "metadata": {},
   "outputs": [
    {
     "name": "stdout",
     "output_type": "stream",
     "text": [
      "Linear Regression - RMSE: 1134.87, MAE: 947.75\n",
      "Random Forest - RMSE: 1137.31, MAE: 948.38\n",
      "Gradient Boosting - RMSE: 1137.50, MAE: 948.59\n"
     ]
    }
   ],
   "source": [
    "\n",
    "for model, metrics in results.items():\n",
    "    print(f\"{model} - RMSE: {metrics['RMSE']:.2f}, MAE: {metrics['MAE']:.2f}\")\n"
   ]
  }
 ],
 "metadata": {
  "kernelspec": {
   "display_name": "Python 3",
   "language": "python",
   "name": "python3"
  },
  "language_info": {
   "codemirror_mode": {
    "name": "ipython",
    "version": 3
   },
   "file_extension": ".py",
   "mimetype": "text/x-python",
   "name": "python",
   "nbconvert_exporter": "python",
   "pygments_lexer": "ipython3",
   "version": "3.11.4"
  }
 },
 "nbformat": 4,
 "nbformat_minor": 2
}
