{
 "cells": [
  {
   "cell_type": "markdown",
   "metadata": {},
   "source": [
    "This is a first script using the RandomForestRegressor (https://scikit-learn.org/stable/modules/generated/sklearn.ensemble.RandomForestRegressor.html). I'm not sure if this is a good approach but it's a start.\n",
    "\n",
    "Next we need to think about better feature engineering."
   ]
  },
  {
   "cell_type": "code",
   "execution_count": 5,
   "metadata": {},
   "outputs": [
    {
     "name": "stdout",
     "output_type": "stream",
     "text": [
      "Root Mean Squared Error: 0.34465821291282195\n",
      "Predicted power consumption: 0.29050276905207445 kWh\n"
     ]
    }
   ],
   "source": [
    "import pandas as pd\n",
    "from sklearn.model_selection import train_test_split\n",
    "from sklearn.ensemble import RandomForestRegressor\n",
    "from sklearn.metrics import mean_squared_error\n",
    "import numpy as np\n",
    "\n",
    "# Load data, make sure that you set the correct file path\n",
    "data = pd.read_csv('VO344_P40_export_20230301_20240326.csv', delimiter=';')\n",
    "\n",
    "# Convert DATEFROM and TIMEFROM into a single datetime column\n",
    "data['datetime'] = pd.to_datetime(data['DATEFROM'] + ' ' + data['TIMEFROM'])\n",
    "\n",
    "# Feature Engineering, this part needs more work\n",
    "data['hour'] = data['datetime'].dt.hour\n",
    "data['day_of_week'] = data['datetime'].dt.dayofweek\n",
    "\n",
    "# Select features and target\n",
    "X = data[['hour', 'day_of_week']] \n",
    "y = data['VALUE']\n",
    "\n",
    "# Split data into training and testing sets\n",
    "X_train, X_test, y_train, y_test = train_test_split(X, y, test_size=0.2, random_state=42)\n",
    "\n",
    "# Initialize and train the model with https://scikit-learn.org/stable/modules/generated/sklearn.ensemble.RandomForestRegressor.html\n",
    "model = RandomForestRegressor(n_estimators=100, random_state=42)\n",
    "model.fit(X_train, y_train)\n",
    "\n",
    "# Make predictions\n",
    "predictions = model.predict(X_test)\n",
    "\n",
    "# Evaluate the model\n",
    "mse = mean_squared_error(y_test, predictions)\n",
    "rmse = np.sqrt(mse)\n",
    "print(f'Root Mean Squared Error: {rmse}')\n",
    "\n",
    "# Predict a new data point at 2 AM on a Monday\n",
    "new_data = pd.DataFrame({'hour': [2], 'day_of_week': [0]})\n",
    "new_prediction = model.predict(new_data)\n",
    "print(f'Predicted power consumption: {new_prediction[0]} kWh')\n"
   ]
  },
  {
   "cell_type": "code",
   "execution_count": 6,
   "metadata": {},
   "outputs": [
    {
     "name": "stdout",
     "output_type": "stream",
     "text": [
      "Standard Deviation of the target variable: 0.3470416456798382\n",
      "RMSE: 0.34465821291282195\n",
      "The RMSE is better than the standard deviation of the target variable.\n"
     ]
    }
   ],
   "source": [
    "# Compute standart deviation of value\n",
    "standard_deviation = np.std(y)\n",
    "print(f'Standard Deviation of the target variable: {standard_deviation}')\n",
    "\n",
    "# Comparison to calculated RMSE\n",
    "rmse = 0.34465821291282195\n",
    "print(f'RMSE: {rmse}')\n",
    "\n",
    "comparison = \"better\" if rmse < standard_deviation else \"worse\"\n",
    "print(f'The RMSE is {comparison} than the standard deviation of the target variable.')"
   ]
  },
  {
   "cell_type": "markdown",
   "metadata": {},
   "source": []
  }
 ],
 "metadata": {
  "kernelspec": {
   "display_name": "IML",
   "language": "python",
   "name": "python3"
  },
  "language_info": {
   "codemirror_mode": {
    "name": "ipython",
    "version": 3
   },
   "file_extension": ".py",
   "mimetype": "text/x-python",
   "name": "python",
   "nbconvert_exporter": "python",
   "pygments_lexer": "ipython3",
   "version": "3.10.13"
  }
 },
 "nbformat": 4,
 "nbformat_minor": 2
}
